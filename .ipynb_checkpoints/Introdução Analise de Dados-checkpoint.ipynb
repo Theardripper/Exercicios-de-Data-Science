{
 "cells": [
  {
   "cell_type": "markdown",
   "id": "df306028",
   "metadata": {},
   "source": [
    "# Introdução a Análise de Dados\n",
    "\n",
    "### Como funciona um Projeto de Análise de Dados?\n",
    "\n",
    "Os projetos de Análise de Dados são na verdade Desafios das Empresas\n",
    "\n",
    "### Desafio\n",
    "\n",
    "- Empresa Vende Bermudas\n",
    "- 5 Lojas\n",
    "- Está querendo aumentar as vendas\n",
    "- O que fazer?\n",
    "- Informações Disponíveis: Base de Vendas"
   ]
  },
  {
   "cell_type": "markdown",
   "id": "29acec1f",
   "metadata": {},
   "source": [
    "### Passo 1 - Trazer sua base de dados para o Python e ver o que tem nela"
   ]
  },
  {
   "cell_type": "code",
   "execution_count": null,
   "id": "194777c9",
   "metadata": {},
   "outputs": [],
   "source": []
  },
  {
   "cell_type": "markdown",
   "id": "578672e0",
   "metadata": {},
   "source": [
    "### Passo 2 - Pegar um panorama geral sobre a sua base de dados"
   ]
  },
  {
   "cell_type": "code",
   "execution_count": null,
   "id": "037ce3ca",
   "metadata": {},
   "outputs": [],
   "source": []
  },
  {
   "cell_type": "markdown",
   "id": "bef847a6",
   "metadata": {},
   "source": [
    "### Passo 3 - Começar sua análise Top -> Down"
   ]
  },
  {
   "cell_type": "code",
   "execution_count": null,
   "id": "9a740aa7",
   "metadata": {},
   "outputs": [],
   "source": []
  },
  {
   "cell_type": "markdown",
   "id": "335db628",
   "metadata": {},
   "source": [
    "### Passo 4 - Entrar no detalhe pra entender"
   ]
  },
  {
   "cell_type": "code",
   "execution_count": 1,
   "id": "874c99bc",
   "metadata": {},
   "outputs": [
    {
     "ename": "SyntaxError",
     "evalue": "invalid syntax (2830201818.py, line 1)",
     "output_type": "error",
     "traceback": [
      "\u001b[1;36m  Input \u001b[1;32mIn [1]\u001b[1;36m\u001b[0m\n\u001b[1;33m    git init\u001b[0m\n\u001b[1;37m        ^\u001b[0m\n\u001b[1;31mSyntaxError\u001b[0m\u001b[1;31m:\u001b[0m invalid syntax\n"
     ]
    }
   ],
   "source": [
    "git init"
   ]
  },
  {
   "cell_type": "code",
   "execution_count": null,
   "id": "639e6db4",
   "metadata": {},
   "outputs": [],
   "source": []
  }
 ],
 "metadata": {
  "kernelspec": {
   "display_name": "Python 3 (ipykernel)",
   "language": "python",
   "name": "python3"
  },
  "language_info": {
   "codemirror_mode": {
    "name": "ipython",
    "version": 3
   },
   "file_extension": ".py",
   "mimetype": "text/x-python",
   "name": "python",
   "nbconvert_exporter": "python",
   "pygments_lexer": "ipython3",
   "version": "3.9.12"
  },
  "vscode": {
   "interpreter": {
    "hash": "16641c8cfe17a9d73f3b6f813f8e13124430606dcf56459ef4dd2dad73abfa35"
   }
  }
 },
 "nbformat": 4,
 "nbformat_minor": 5
}
